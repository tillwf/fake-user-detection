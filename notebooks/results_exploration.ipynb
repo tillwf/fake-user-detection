{
 "cells": [
  {
   "cell_type": "code",
   "execution_count": 6,
   "id": "9a06ccae",
   "metadata": {},
   "outputs": [],
   "source": [
    "import pandas as pd\n",
    "from sklearn import metrics"
   ]
  },
  {
   "cell_type": "code",
   "execution_count": 4,
   "id": "f15e625c",
   "metadata": {},
   "outputs": [],
   "source": [
    "predictions = pd.read_csv(\"../data/processed/raw_predictions.csv\")\n",
    "real_values = pd.read_csv(\"../data/processed/test_users.csv\")"
   ]
  },
  {
   "cell_type": "code",
   "execution_count": 5,
   "id": "c27a5290",
   "metadata": {},
   "outputs": [
    {
     "data": {
      "text/html": [
       "<div>\n",
       "<style scoped>\n",
       "    .dataframe tbody tr th:only-of-type {\n",
       "        vertical-align: middle;\n",
       "    }\n",
       "\n",
       "    .dataframe tbody tr th {\n",
       "        vertical-align: top;\n",
       "    }\n",
       "\n",
       "    .dataframe thead th {\n",
       "        text-align: right;\n",
       "    }\n",
       "</style>\n",
       "<table border=\"1\" class=\"dataframe\">\n",
       "  <thead>\n",
       "    <tr style=\"text-align: right;\">\n",
       "      <th></th>\n",
       "      <th>UserId</th>\n",
       "      <th>predictions</th>\n",
       "    </tr>\n",
       "  </thead>\n",
       "  <tbody>\n",
       "    <tr>\n",
       "      <th>0</th>\n",
       "      <td>007E6F5744</td>\n",
       "      <td>1.661340e-02</td>\n",
       "    </tr>\n",
       "    <tr>\n",
       "      <th>1</th>\n",
       "      <td>00CABCB25E</td>\n",
       "      <td>8.063640e-05</td>\n",
       "    </tr>\n",
       "    <tr>\n",
       "      <th>2</th>\n",
       "      <td>00FEFAB150</td>\n",
       "      <td>2.921727e-05</td>\n",
       "    </tr>\n",
       "    <tr>\n",
       "      <th>3</th>\n",
       "      <td>0122428A28</td>\n",
       "      <td>9.996356e-07</td>\n",
       "    </tr>\n",
       "    <tr>\n",
       "      <th>4</th>\n",
       "      <td>014AFCC716</td>\n",
       "      <td>6.767072e-04</td>\n",
       "    </tr>\n",
       "    <tr>\n",
       "      <th>...</th>\n",
       "      <td>...</td>\n",
       "      <td>...</td>\n",
       "    </tr>\n",
       "    <tr>\n",
       "      <th>878</th>\n",
       "      <td>FFFDC1CD0F</td>\n",
       "      <td>2.405054e-05</td>\n",
       "    </tr>\n",
       "    <tr>\n",
       "      <th>879</th>\n",
       "      <td>J8JMDIPTJV</td>\n",
       "      <td>9.723557e-01</td>\n",
       "    </tr>\n",
       "    <tr>\n",
       "      <th>880</th>\n",
       "      <td>KPQFE1DKB9</td>\n",
       "      <td>8.805555e-01</td>\n",
       "    </tr>\n",
       "    <tr>\n",
       "      <th>881</th>\n",
       "      <td>M605I7SE9A</td>\n",
       "      <td>5.433011e-01</td>\n",
       "    </tr>\n",
       "    <tr>\n",
       "      <th>882</th>\n",
       "      <td>WAG372JRCV</td>\n",
       "      <td>9.432222e-01</td>\n",
       "    </tr>\n",
       "  </tbody>\n",
       "</table>\n",
       "<p>883 rows × 2 columns</p>\n",
       "</div>"
      ],
      "text/plain": [
       "         UserId   predictions\n",
       "0    007E6F5744  1.661340e-02\n",
       "1    00CABCB25E  8.063640e-05\n",
       "2    00FEFAB150  2.921727e-05\n",
       "3    0122428A28  9.996356e-07\n",
       "4    014AFCC716  6.767072e-04\n",
       "..          ...           ...\n",
       "878  FFFDC1CD0F  2.405054e-05\n",
       "879  J8JMDIPTJV  9.723557e-01\n",
       "880  KPQFE1DKB9  8.805555e-01\n",
       "881  M605I7SE9A  5.433011e-01\n",
       "882  WAG372JRCV  9.432222e-01\n",
       "\n",
       "[883 rows x 2 columns]"
      ]
     },
     "execution_count": 5,
     "metadata": {},
     "output_type": "execute_result"
    }
   ],
   "source": [
    "df = predictions.merge(real_values, on=\"\")"
   ]
  },
  {
   "cell_type": "code",
   "execution_count": null,
   "id": "a3fcd875",
   "metadata": {},
   "outputs": [],
   "source": [
    "roc_auc = metrics.auc(fpr, tpr)\n",
    "\n",
    "# method I: plt\n",
    "import matplotlib.pyplot as plt\n",
    "plt.title('Receiver Operating Characteristic')\n",
    "plt.plot(fpr, tpr, 'b', label = 'AUC = %0.2f' % roc_auc)\n",
    "plt.legend(loc = 'lower right')\n",
    "plt.plot([0, 1], [0, 1],'r--')\n",
    "plt.xlim([0, 1])\n",
    "plt.ylim([0, 1])\n",
    "plt.ylabel('True Positive Rate')\n",
    "plt.xlabel('False Positive Rate')\n",
    "plt.show()"
   ]
  }
 ],
 "metadata": {
  "kernelspec": {
   "display_name": "Python 3 (ipykernel)",
   "language": "python",
   "name": "python3"
  },
  "language_info": {
   "codemirror_mode": {
    "name": "ipython",
    "version": 3
   },
   "file_extension": ".py",
   "mimetype": "text/x-python",
   "name": "python",
   "nbconvert_exporter": "python",
   "pygments_lexer": "ipython3",
   "version": "3.10.7"
  }
 },
 "nbformat": 4,
 "nbformat_minor": 5
}
