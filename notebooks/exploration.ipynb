{
 "cells": [
  {
   "cell_type": "code",
   "execution_count": 2,
   "id": "9a06ccae",
   "metadata": {},
   "outputs": [],
   "source": [
    "import pandas as pd"
   ]
  },
  {
   "cell_type": "code",
   "execution_count": 27,
   "id": "43834b59",
   "metadata": {},
   "outputs": [
    {
     "data": {
      "text/html": [
       "<div>\n",
       "<style scoped>\n",
       "    .dataframe tbody tr th:only-of-type {\n",
       "        vertical-align: middle;\n",
       "    }\n",
       "\n",
       "    .dataframe tbody tr th {\n",
       "        vertical-align: top;\n",
       "    }\n",
       "\n",
       "    .dataframe thead th {\n",
       "        text-align: right;\n",
       "    }\n",
       "</style>\n",
       "<table border=\"1\" class=\"dataframe\">\n",
       "  <thead>\n",
       "    <tr style=\"text-align: right;\">\n",
       "      <th></th>\n",
       "      <th>UserId</th>\n",
       "      <th>Event</th>\n",
       "      <th>Category</th>\n",
       "      <th>Fake</th>\n",
       "    </tr>\n",
       "  </thead>\n",
       "  <tbody>\n",
       "    <tr>\n",
       "      <th>0</th>\n",
       "      <td>53F7429AB5</td>\n",
       "      <td>phone_call</td>\n",
       "      <td>Jobs</td>\n",
       "      <td>0</td>\n",
       "    </tr>\n",
       "    <tr>\n",
       "      <th>1</th>\n",
       "      <td>C08F2A0901</td>\n",
       "      <td>click_ad</td>\n",
       "      <td>Phone</td>\n",
       "      <td>0</td>\n",
       "    </tr>\n",
       "    <tr>\n",
       "      <th>2</th>\n",
       "      <td>B124F43F6D</td>\n",
       "      <td>send_sms</td>\n",
       "      <td>Holidays</td>\n",
       "      <td>0</td>\n",
       "    </tr>\n",
       "    <tr>\n",
       "      <th>3</th>\n",
       "      <td>6DB134D2D1</td>\n",
       "      <td>send_email</td>\n",
       "      <td>Motor</td>\n",
       "      <td>0</td>\n",
       "    </tr>\n",
       "    <tr>\n",
       "      <th>4</th>\n",
       "      <td>8BD16971C5</td>\n",
       "      <td>click_carrousel</td>\n",
       "      <td>Leisure</td>\n",
       "      <td>0</td>\n",
       "    </tr>\n",
       "  </tbody>\n",
       "</table>\n",
       "</div>"
      ],
      "text/plain": [
       "       UserId            Event  Category  Fake\n",
       "0  53F7429AB5       phone_call      Jobs     0\n",
       "1  C08F2A0901         click_ad     Phone     0\n",
       "2  B124F43F6D         send_sms  Holidays     0\n",
       "3  6DB134D2D1       send_email     Motor     0\n",
       "4  8BD16971C5  click_carrousel   Leisure     0"
      ]
     },
     "execution_count": 27,
     "metadata": {},
     "output_type": "execute_result"
    }
   ],
   "source": [
    "df = pd.read_csv(\"../data/fake_users.csv\")\n",
    "df[\"Event\"] = df[\"Event\"].astype('category')\n",
    "df[\"Category\"] = df[\"Category\"].astype('category')\n",
    "df.head()"
   ]
  },
  {
   "cell_type": "code",
   "execution_count": 28,
   "id": "fbb67194",
   "metadata": {},
   "outputs": [
    {
     "data": {
      "text/plain": [
       "count         102365\n",
       "unique          5350\n",
       "top       CCB25F87C8\n",
       "freq              49\n",
       "Name: UserId, dtype: object"
      ]
     },
     "execution_count": 28,
     "metadata": {},
     "output_type": "execute_result"
    }
   ],
   "source": [
    "df[\"UserId\"].describe()"
   ]
  },
  {
   "cell_type": "code",
   "execution_count": 29,
   "id": "45cb9e52",
   "metadata": {},
   "outputs": [
    {
     "data": {
      "text/plain": [
       "count         102365\n",
       "unique             5\n",
       "top       send_email\n",
       "freq           23664\n",
       "Name: Event, dtype: object"
      ]
     },
     "execution_count": 29,
     "metadata": {},
     "output_type": "execute_result"
    }
   ],
   "source": [
    "df[\"Event\"].describe()"
   ]
  },
  {
   "cell_type": "code",
   "execution_count": 30,
   "id": "4892ece7",
   "metadata": {},
   "outputs": [
    {
     "data": {
      "text/plain": [
       "count     102365\n",
       "unique         6\n",
       "top        Motor\n",
       "freq       17268\n",
       "Name: Category, dtype: object"
      ]
     },
     "execution_count": 30,
     "metadata": {},
     "output_type": "execute_result"
    }
   ],
   "source": [
    "df[\"Category\"].describe()"
   ]
  },
  {
   "cell_type": "code",
   "execution_count": 31,
   "id": "92adf53b",
   "metadata": {},
   "outputs": [
    {
     "data": {
      "text/plain": [
       "count    102365.000000\n",
       "mean          0.101197\n",
       "std           0.301590\n",
       "min           0.000000\n",
       "25%           0.000000\n",
       "50%           0.000000\n",
       "75%           0.000000\n",
       "max           1.000000\n",
       "Name: Fake, dtype: float64"
      ]
     },
     "execution_count": 31,
     "metadata": {},
     "output_type": "execute_result"
    }
   ],
   "source": [
    "df[\"Fake\"].describe()"
   ]
  },
  {
   "cell_type": "code",
   "execution_count": null,
   "id": "71ad91c2",
   "metadata": {},
   "outputs": [],
   "source": []
  },
  {
   "cell_type": "code",
   "execution_count": null,
   "id": "f15e625c",
   "metadata": {},
   "outputs": [],
   "source": []
  }
 ],
 "metadata": {
  "kernelspec": {
   "display_name": "Python 3 (ipykernel)",
   "language": "python",
   "name": "python3"
  },
  "language_info": {
   "codemirror_mode": {
    "name": "ipython",
    "version": 3
   },
   "file_extension": ".py",
   "mimetype": "text/x-python",
   "name": "python",
   "nbconvert_exporter": "python",
   "pygments_lexer": "ipython3",
   "version": "3.10.7"
  }
 },
 "nbformat": 4,
 "nbformat_minor": 5
}
